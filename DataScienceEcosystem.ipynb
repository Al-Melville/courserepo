{
 "cells": [
  {
   "cell_type": "markdown",
   "id": "63f1447a-7d0a-4f30-9da4-4209288c6adb",
   "metadata": {},
   "source": [
    "# Data Science Tools and Ecosystem"
   ]
  },
  {
   "cell_type": "markdown",
   "id": "f18a9075-b705-46f8-adbe-ac3634ed662a",
   "metadata": {},
   "source": [
    "## Author\n",
    "Amitoj"
   ]
  },
  {
   "cell_type": "markdown",
   "id": "98259b63-2a84-434c-95df-00ed7888fef6",
   "metadata": {},
   "source": [
    "In this notebook, Data Science Tools and Ecosystem are summarized."
   ]
  },
  {
   "cell_type": "markdown",
   "id": "d5886aae-5626-4ec5-b291-fa2295046fe8",
   "metadata": {},
   "source": [
    "**Objectives**\n",
    "- List some of the popular languages for Data Science\n",
    "- List some of the commonly use libraries used in Data Science\n",
    "- List some data science tools\n",
    "- Evaluate some arithmetic expressions"
   ]
  },
  {
   "cell_type": "markdown",
   "id": "f185ce74-5fa8-4a67-9152-1c1d68d4158b",
   "metadata": {},
   "source": [
    "Some of the popular languages that Data Scientists use are:\n",
    "1. Python\n",
    "2. R\n",
    "3. Julia"
   ]
  },
  {
   "cell_type": "markdown",
   "id": "de96a05b-3908-4459-a211-e1185c5e429e",
   "metadata": {},
   "source": [
    "Some of the commonly used libraries used by Data Scientists include:\n",
    "1. Matplotlib\n",
    "2. Pandas\n",
    "3. NumPy"
   ]
  },
  {
   "cell_type": "markdown",
   "id": "0ab475a2-f0db-438a-a6cb-90d706087bac",
   "metadata": {},
   "source": [
    "|Data Science Tools|\n",
    "|------------------|\n",
    "|Jupyter Lab       |\n",
    "|RStudio           |\n",
    "|Apache Spark      |"
   ]
  },
  {
   "cell_type": "markdown",
   "id": "04380ba3-cca7-4b73-9d4e-641851381a64",
   "metadata": {},
   "source": [
    "### Below are a few examples of evaluating arithmetic expressions in Python"
   ]
  },
  {
   "cell_type": "code",
   "execution_count": 1,
   "id": "db782d5d-939d-4839-bd96-6b597fd76ff7",
   "metadata": {
    "tags": []
   },
   "outputs": [
    {
     "data": {
      "text/plain": [
       "17"
      ]
     },
     "execution_count": 1,
     "metadata": {},
     "output_type": "execute_result"
    }
   ],
   "source": [
    "# This a simple arithmetic expression to mutiply then add integers\n",
    "(3*4)+5"
   ]
  },
  {
   "cell_type": "code",
   "execution_count": 5,
   "id": "79380530-afcb-423d-b721-1b30511922d4",
   "metadata": {
    "tags": []
   },
   "outputs": [
    {
     "name": "stdout",
     "output_type": "stream",
     "text": [
      "3.3333333333333335 hours\n"
     ]
    }
   ],
   "source": [
    "# This will convert 200 minutes to hours by diving by 60\n",
    "minutes=200\n",
    "hours=minutes/60\n",
    "print(hours,\"hours\")"
   ]
  },
  {
   "cell_type": "code",
   "execution_count": null,
   "id": "5dff2e28-dece-463d-922b-a024995bb012",
   "metadata": {},
   "outputs": [],
   "source": []
  }
 ],
 "metadata": {
  "kernelspec": {
   "display_name": "Python",
   "language": "python",
   "name": "conda-env-python-py"
  },
  "language_info": {
   "codemirror_mode": {
    "name": "ipython",
    "version": 3
   },
   "file_extension": ".py",
   "mimetype": "text/x-python",
   "name": "python",
   "nbconvert_exporter": "python",
   "pygments_lexer": "ipython3",
   "version": "3.7.12"
  }
 },
 "nbformat": 4,
 "nbformat_minor": 5
}
